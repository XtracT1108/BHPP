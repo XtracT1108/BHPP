{
  "nbformat": 4,
  "nbformat_minor": 0,
  "metadata": {
    "colab": {
      "name": "Final Version 1.6",
      "provenance": [],
      "collapsed_sections": []
    },
    "kernelspec": {
      "display_name": "Python 3",
      "name": "python3"
    }
  },
  "cells": [
    {
      "cell_type": "markdown",
      "metadata": {
        "id": "IpL5v1Sf3RWI"
      },
      "source": [
        "# Bangalore House Price Prediction\n"
      ]
    },
    {
      "cell_type": "markdown",
      "metadata": {
        "id": "PVLMn1d8k7He"
      },
      "source": [
        "\n",
        "\n",
        "1. Pratik Thapa\n",
        "2. Pankaj Kumar Barman\n",
        "3. Manish Gupta\n",
        "\n",
        "\n",
        "\n",
        "\n",
        "\n",
        "\n"
      ]
    },
    {
      "cell_type": "markdown",
      "metadata": {
        "id": "EemHEYwyRlPt"
      },
      "source": [
        "# Importing Required Modules\n"
      ]
    },
    {
      "cell_type": "code",
      "metadata": {
        "colab": {
          "base_uri": "https://localhost:8080/"
        },
        "id": "gOSX3Cyj3MMb",
        "outputId": "34d638f8-d446-4709-fcdc-25dc345720ba"
      },
      "source": [
        "import pandas as pd\n",
        "import numpy as np\n",
        "from sklearn.model_selection import train_test_split\n",
        "from sklearn.preprocessing import StandardScaler\n",
        "from sklearn.linear_model import LinearRegression\n",
        "from sklearn.metrics import mean_squared_error\n",
        "import joblib\n",
        "!pip install fastapi nest-asyncio pyngrok uvicorn\n",
        "from fastapi import FastAPI\n",
        "import nest_asyncio\n",
        "from pyngrok import ngrok\n",
        "import uvicorn\n",
        "import pickle\n",
        "from pydantic import BaseModel\n",
        "\n"
      ],
      "execution_count": 1,
      "outputs": [
        {
          "output_type": "stream",
          "text": [
            "Collecting fastapi\n",
            "\u001b[?25l  Downloading https://files.pythonhosted.org/packages/dc/a8/a6be420593c4061c086e6d2ba47db46401d9af2b98b6cd33d35284f706d3/fastapi-0.65.2-py3-none-any.whl (51kB)\n",
            "\u001b[K     |████████████████████████████████| 51kB 2.8MB/s \n",
            "\u001b[?25hRequirement already satisfied: nest-asyncio in /usr/local/lib/python3.7/dist-packages (1.5.1)\n",
            "Collecting pyngrok\n",
            "\u001b[?25l  Downloading https://files.pythonhosted.org/packages/6b/4e/a2fe095bbe17cf26424c4abcd22a0490e22d01cc628f25af5e220ddbf6f0/pyngrok-5.0.5.tar.gz (745kB)\n",
            "\u001b[K     |████████████████████████████████| 747kB 8.2MB/s \n",
            "\u001b[?25hCollecting uvicorn\n",
            "\u001b[?25l  Downloading https://files.pythonhosted.org/packages/bf/fe/a41994c92897b162c0c83e8ef10bec54ebdefbce3f3725b530d2091492ac/uvicorn-0.14.0-py3-none-any.whl (50kB)\n",
            "\u001b[K     |████████████████████████████████| 51kB 6.4MB/s \n",
            "\u001b[?25hCollecting starlette==0.14.2\n",
            "\u001b[?25l  Downloading https://files.pythonhosted.org/packages/15/34/db1890f442a1cd3a2c761f4109a0eb4e63503218d70a8c8e97faa09a5500/starlette-0.14.2-py3-none-any.whl (60kB)\n",
            "\u001b[K     |████████████████████████████████| 61kB 9.4MB/s \n",
            "\u001b[?25hCollecting pydantic!=1.7,!=1.7.1,!=1.7.2,!=1.7.3,!=1.8,!=1.8.1,<2.0.0,>=1.6.2\n",
            "\u001b[?25l  Downloading https://files.pythonhosted.org/packages/9f/f2/2d5425efe57f6c4e06cbe5e587c1fd16929dcf0eb90bd4d3d1e1c97d1151/pydantic-1.8.2-cp37-cp37m-manylinux2014_x86_64.whl (10.1MB)\n",
            "\u001b[K     |████████████████████████████████| 10.1MB 27.5MB/s \n",
            "\u001b[?25hRequirement already satisfied: PyYAML in /usr/local/lib/python3.7/dist-packages (from pyngrok) (3.13)\n",
            "Collecting h11>=0.8\n",
            "\u001b[?25l  Downloading https://files.pythonhosted.org/packages/60/0f/7a0eeea938eaf61074f29fed9717f2010e8d0e0905d36b38d3275a1e4622/h11-0.12.0-py3-none-any.whl (54kB)\n",
            "\u001b[K     |████████████████████████████████| 61kB 7.5MB/s \n",
            "\u001b[?25hRequirement already satisfied: typing-extensions; python_version < \"3.8\" in /usr/local/lib/python3.7/dist-packages (from uvicorn) (3.7.4.3)\n",
            "Collecting asgiref>=3.3.4\n",
            "  Downloading https://files.pythonhosted.org/packages/17/8b/05e225d11154b8f5358e6a6d277679c9741ec0339d1e451c9cef687a9170/asgiref-3.3.4-py3-none-any.whl\n",
            "Requirement already satisfied: click>=7.* in /usr/local/lib/python3.7/dist-packages (from uvicorn) (7.1.2)\n",
            "Building wheels for collected packages: pyngrok\n",
            "  Building wheel for pyngrok (setup.py) ... \u001b[?25l\u001b[?25hdone\n",
            "  Created wheel for pyngrok: filename=pyngrok-5.0.5-cp37-none-any.whl size=19262 sha256=6250d797c29139fc9b435e983a015fcd092934c2087b9e7d9475dc515157a991\n",
            "  Stored in directory: /root/.cache/pip/wheels/0c/13/64/5ebbcc22eaf53fdf5766b397c1fb17c83f5775fdccf0ea1b88\n",
            "Successfully built pyngrok\n",
            "Installing collected packages: starlette, pydantic, fastapi, pyngrok, h11, asgiref, uvicorn\n",
            "Successfully installed asgiref-3.3.4 fastapi-0.65.2 h11-0.12.0 pydantic-1.8.2 pyngrok-5.0.5 starlette-0.14.2 uvicorn-0.14.0\n"
          ],
          "name": "stdout"
        }
      ]
    },
    {
      "cell_type": "markdown",
      "metadata": {
        "id": "-uT-sclRSlWY"
      },
      "source": [
        "# Loading CSV File and Formatting Data"
      ]
    },
    {
      "cell_type": "code",
      "metadata": {
        "id": "xRx0SRBGC54j"
      },
      "source": [
        "pd.set_option(\"display.max_columns\", None)\n",
        "pd.set_option(\"display.max_rows\", None)"
      ],
      "execution_count": 3,
      "outputs": []
    },
    {
      "cell_type": "code",
      "metadata": {
        "colab": {
          "base_uri": "https://localhost:8080/"
        },
        "id": "Gp8WO-ZhNc6w",
        "outputId": "3aea5c47-4331-48b9-f57e-2806453123bb"
      },
      "source": [
        "file = r\"https://drive.google.com/uc?export=download&id=1P49POlAk27uRzWKXoR2WaEfb1lyyfiRJ\"\n",
        "\n",
        "table = pd.read_csv(file)\n",
        "table.shape"
      ],
      "execution_count": 4,
      "outputs": [
        {
          "output_type": "execute_result",
          "data": {
            "text/plain": [
              "(7120, 109)"
            ]
          },
          "metadata": {
            "tags": []
          },
          "execution_count": 4
        }
      ]
    },
    {
      "cell_type": "code",
      "metadata": {
        "colab": {
          "base_uri": "https://localhost:8080/"
        },
        "id": "WP8pY6-IlxRJ",
        "outputId": "b1277d50-03ff-4386-cee3-d990cb198738"
      },
      "source": [
        "table.shape"
      ],
      "execution_count": 5,
      "outputs": [
        {
          "output_type": "execute_result",
          "data": {
            "text/plain": [
              "(7120, 109)"
            ]
          },
          "metadata": {
            "tags": []
          },
          "execution_count": 5
        }
      ]
    },
    {
      "cell_type": "code",
      "metadata": {
        "colab": {
          "base_uri": "https://localhost:8080/",
          "height": 258
        },
        "id": "VFKjUlZtPQgS",
        "outputId": "b982ccc8-9f31-41cd-f2ee-50b23433497d"
      },
      "source": [
        "table.head()"
      ],
      "execution_count": 6,
      "outputs": [
        {
          "output_type": "execute_result",
          "data": {
            "text/html": [
              "<div>\n",
              "<style scoped>\n",
              "    .dataframe tbody tr th:only-of-type {\n",
              "        vertical-align: middle;\n",
              "    }\n",
              "\n",
              "    .dataframe tbody tr th {\n",
              "        vertical-align: top;\n",
              "    }\n",
              "\n",
              "    .dataframe thead th {\n",
              "        text-align: right;\n",
              "    }\n",
              "</style>\n",
              "<table border=\"1\" class=\"dataframe\">\n",
              "  <thead>\n",
              "    <tr style=\"text-align: right;\">\n",
              "      <th></th>\n",
              "      <th>Unnamed: 0</th>\n",
              "      <th>bath</th>\n",
              "      <th>balcony</th>\n",
              "      <th>price</th>\n",
              "      <th>total_sqft_int</th>\n",
              "      <th>bhk</th>\n",
              "      <th>price_per_sqft</th>\n",
              "      <th>area_typeSuper built-up  Area</th>\n",
              "      <th>area_typeBuilt-up  Area</th>\n",
              "      <th>area_typePlot  Area</th>\n",
              "      <th>availability_Ready To Move</th>\n",
              "      <th>location_Whitefield</th>\n",
              "      <th>location_Sarjapur  Road</th>\n",
              "      <th>location_Electronic City</th>\n",
              "      <th>location_Raja Rajeshwari Nagar</th>\n",
              "      <th>location_Marathahalli</th>\n",
              "      <th>location_Haralur Road</th>\n",
              "      <th>location_Hennur Road</th>\n",
              "      <th>location_Bannerghatta Road</th>\n",
              "      <th>location_Uttarahalli</th>\n",
              "      <th>location_Thanisandra</th>\n",
              "      <th>location_Electronic City Phase II</th>\n",
              "      <th>location_Hebbal</th>\n",
              "      <th>location_Yelahanka</th>\n",
              "      <th>location_7th Phase JP Nagar</th>\n",
              "      <th>location_Kanakpura Road</th>\n",
              "      <th>location_KR Puram</th>\n",
              "      <th>location_Sarjapur</th>\n",
              "      <th>location_Rajaji Nagar</th>\n",
              "      <th>location_Bellandur</th>\n",
              "      <th>location_Kasavanhalli</th>\n",
              "      <th>location_Begur Road</th>\n",
              "      <th>location_Kothanur</th>\n",
              "      <th>location_Banashankari</th>\n",
              "      <th>location_Hormavu</th>\n",
              "      <th>location_Harlur</th>\n",
              "      <th>location_Akshaya Nagar</th>\n",
              "      <th>location_Jakkur</th>\n",
              "      <th>location_Electronics City Phase 1</th>\n",
              "      <th>location_Varthur</th>\n",
              "      <th>location_HSR Layout</th>\n",
              "      <th>location_Chandapura</th>\n",
              "      <th>location_Ramamurthy Nagar</th>\n",
              "      <th>location_Hennur</th>\n",
              "      <th>location_Kundalahalli</th>\n",
              "      <th>location_Ramagondanahalli</th>\n",
              "      <th>location_Kaggadasapura</th>\n",
              "      <th>location_Koramangala</th>\n",
              "      <th>location_Hulimavu</th>\n",
              "      <th>location_Budigere</th>\n",
              "      <th>location_Hoodi</th>\n",
              "      <th>location_Malleshwaram</th>\n",
              "      <th>location_JP Nagar</th>\n",
              "      <th>location_Hegde Nagar</th>\n",
              "      <th>location_Yeshwanthpur</th>\n",
              "      <th>location_8th Phase JP Nagar</th>\n",
              "      <th>location_Gottigere</th>\n",
              "      <th>location_Channasandra</th>\n",
              "      <th>location_Bisuvanahalli</th>\n",
              "      <th>location_Vittasandra</th>\n",
              "      <th>location_Indira Nagar</th>\n",
              "      <th>location_Brookefield</th>\n",
              "      <th>location_Vijayanagar</th>\n",
              "      <th>location_Old Airport Road</th>\n",
              "      <th>location_Sahakara Nagar</th>\n",
              "      <th>location_Hosa Road</th>\n",
              "      <th>location_Kengeri</th>\n",
              "      <th>location_Bommasandra</th>\n",
              "      <th>location_Green Glen Layout</th>\n",
              "      <th>location_Balagere</th>\n",
              "      <th>location_Old Madras Road</th>\n",
              "      <th>location_Kudlu Gate</th>\n",
              "      <th>location_Panathur</th>\n",
              "      <th>location_Rachenahalli</th>\n",
              "      <th>location_Yelahanka New Town</th>\n",
              "      <th>location_Jigani</th>\n",
              "      <th>location_Kadugodi</th>\n",
              "      <th>location_Talaghattapura</th>\n",
              "      <th>location_Thigalarapalya</th>\n",
              "      <th>location_Mysore Road</th>\n",
              "      <th>location_Ambedkar Nagar</th>\n",
              "      <th>location_Frazer Town</th>\n",
              "      <th>location_Dodda Nekkundi</th>\n",
              "      <th>location_Attibele</th>\n",
              "      <th>location_Kanakapura</th>\n",
              "      <th>location_Devanahalli</th>\n",
              "      <th>location_Nagarbhavi</th>\n",
              "      <th>location_TC Palaya</th>\n",
              "      <th>location_Lakshminarayana Pura</th>\n",
              "      <th>location_5th Phase JP Nagar</th>\n",
              "      <th>location_Anekal</th>\n",
              "      <th>location_Ananth Nagar</th>\n",
              "      <th>location_Jalahalli</th>\n",
              "      <th>location_CV Raman Nagar</th>\n",
              "      <th>location_Kengeri Satellite Town</th>\n",
              "      <th>location_Kudlu</th>\n",
              "      <th>location_Bhoganhalli</th>\n",
              "      <th>location_Doddathoguru</th>\n",
              "      <th>location_Subramanyapura</th>\n",
              "      <th>location_Kalena Agrahara</th>\n",
              "      <th>location_Horamavu Agara</th>\n",
              "      <th>location_Hosur Road</th>\n",
              "      <th>location_Vidyaranyapura</th>\n",
              "      <th>location_Hebbal Kempapura</th>\n",
              "      <th>location_BTM 2nd Stage</th>\n",
              "      <th>location_Mahadevpura</th>\n",
              "      <th>location_Horamavu Banaswadi</th>\n",
              "      <th>location_Domlur</th>\n",
              "      <th>location_Tumkur Road</th>\n",
              "    </tr>\n",
              "  </thead>\n",
              "  <tbody>\n",
              "    <tr>\n",
              "      <th>0</th>\n",
              "      <td>0</td>\n",
              "      <td>3.0</td>\n",
              "      <td>2.0</td>\n",
              "      <td>150.0</td>\n",
              "      <td>1672.0</td>\n",
              "      <td>3</td>\n",
              "      <td>8971.291866</td>\n",
              "      <td>1</td>\n",
              "      <td>0</td>\n",
              "      <td>0</td>\n",
              "      <td>1</td>\n",
              "      <td>0</td>\n",
              "      <td>0</td>\n",
              "      <td>0</td>\n",
              "      <td>0</td>\n",
              "      <td>0</td>\n",
              "      <td>0</td>\n",
              "      <td>0</td>\n",
              "      <td>0</td>\n",
              "      <td>0</td>\n",
              "      <td>0</td>\n",
              "      <td>0</td>\n",
              "      <td>0</td>\n",
              "      <td>0</td>\n",
              "      <td>0</td>\n",
              "      <td>0</td>\n",
              "      <td>0</td>\n",
              "      <td>0</td>\n",
              "      <td>0</td>\n",
              "      <td>0</td>\n",
              "      <td>0</td>\n",
              "      <td>0</td>\n",
              "      <td>0</td>\n",
              "      <td>0</td>\n",
              "      <td>0</td>\n",
              "      <td>0</td>\n",
              "      <td>0</td>\n",
              "      <td>0</td>\n",
              "      <td>0</td>\n",
              "      <td>0</td>\n",
              "      <td>0</td>\n",
              "      <td>0</td>\n",
              "      <td>0</td>\n",
              "      <td>0</td>\n",
              "      <td>0</td>\n",
              "      <td>0</td>\n",
              "      <td>0</td>\n",
              "      <td>0</td>\n",
              "      <td>0</td>\n",
              "      <td>0</td>\n",
              "      <td>0</td>\n",
              "      <td>0</td>\n",
              "      <td>0</td>\n",
              "      <td>0</td>\n",
              "      <td>0</td>\n",
              "      <td>0</td>\n",
              "      <td>0</td>\n",
              "      <td>0</td>\n",
              "      <td>0</td>\n",
              "      <td>0</td>\n",
              "      <td>0</td>\n",
              "      <td>0</td>\n",
              "      <td>0</td>\n",
              "      <td>0</td>\n",
              "      <td>0</td>\n",
              "      <td>0</td>\n",
              "      <td>0</td>\n",
              "      <td>0</td>\n",
              "      <td>0</td>\n",
              "      <td>0</td>\n",
              "      <td>0</td>\n",
              "      <td>0</td>\n",
              "      <td>0</td>\n",
              "      <td>0</td>\n",
              "      <td>0</td>\n",
              "      <td>0</td>\n",
              "      <td>0</td>\n",
              "      <td>0</td>\n",
              "      <td>0</td>\n",
              "      <td>0</td>\n",
              "      <td>0</td>\n",
              "      <td>0</td>\n",
              "      <td>0</td>\n",
              "      <td>0</td>\n",
              "      <td>0</td>\n",
              "      <td>0</td>\n",
              "      <td>0</td>\n",
              "      <td>0</td>\n",
              "      <td>0</td>\n",
              "      <td>0</td>\n",
              "      <td>0</td>\n",
              "      <td>0</td>\n",
              "      <td>0</td>\n",
              "      <td>0</td>\n",
              "      <td>0</td>\n",
              "      <td>0</td>\n",
              "      <td>0</td>\n",
              "      <td>0</td>\n",
              "      <td>0</td>\n",
              "      <td>0</td>\n",
              "      <td>0</td>\n",
              "      <td>0</td>\n",
              "      <td>0</td>\n",
              "      <td>0</td>\n",
              "      <td>0</td>\n",
              "      <td>0</td>\n",
              "      <td>0</td>\n",
              "      <td>0</td>\n",
              "      <td>0</td>\n",
              "    </tr>\n",
              "    <tr>\n",
              "      <th>1</th>\n",
              "      <td>1</td>\n",
              "      <td>3.0</td>\n",
              "      <td>3.0</td>\n",
              "      <td>149.0</td>\n",
              "      <td>1750.0</td>\n",
              "      <td>3</td>\n",
              "      <td>8514.285714</td>\n",
              "      <td>0</td>\n",
              "      <td>1</td>\n",
              "      <td>0</td>\n",
              "      <td>1</td>\n",
              "      <td>0</td>\n",
              "      <td>0</td>\n",
              "      <td>0</td>\n",
              "      <td>0</td>\n",
              "      <td>0</td>\n",
              "      <td>0</td>\n",
              "      <td>0</td>\n",
              "      <td>0</td>\n",
              "      <td>0</td>\n",
              "      <td>0</td>\n",
              "      <td>0</td>\n",
              "      <td>0</td>\n",
              "      <td>0</td>\n",
              "      <td>0</td>\n",
              "      <td>0</td>\n",
              "      <td>0</td>\n",
              "      <td>0</td>\n",
              "      <td>0</td>\n",
              "      <td>0</td>\n",
              "      <td>0</td>\n",
              "      <td>0</td>\n",
              "      <td>0</td>\n",
              "      <td>0</td>\n",
              "      <td>0</td>\n",
              "      <td>0</td>\n",
              "      <td>0</td>\n",
              "      <td>0</td>\n",
              "      <td>0</td>\n",
              "      <td>0</td>\n",
              "      <td>0</td>\n",
              "      <td>0</td>\n",
              "      <td>0</td>\n",
              "      <td>0</td>\n",
              "      <td>0</td>\n",
              "      <td>0</td>\n",
              "      <td>0</td>\n",
              "      <td>0</td>\n",
              "      <td>0</td>\n",
              "      <td>0</td>\n",
              "      <td>0</td>\n",
              "      <td>0</td>\n",
              "      <td>0</td>\n",
              "      <td>0</td>\n",
              "      <td>0</td>\n",
              "      <td>0</td>\n",
              "      <td>0</td>\n",
              "      <td>0</td>\n",
              "      <td>0</td>\n",
              "      <td>0</td>\n",
              "      <td>0</td>\n",
              "      <td>0</td>\n",
              "      <td>0</td>\n",
              "      <td>0</td>\n",
              "      <td>0</td>\n",
              "      <td>0</td>\n",
              "      <td>0</td>\n",
              "      <td>0</td>\n",
              "      <td>0</td>\n",
              "      <td>0</td>\n",
              "      <td>0</td>\n",
              "      <td>0</td>\n",
              "      <td>0</td>\n",
              "      <td>0</td>\n",
              "      <td>0</td>\n",
              "      <td>0</td>\n",
              "      <td>0</td>\n",
              "      <td>0</td>\n",
              "      <td>0</td>\n",
              "      <td>0</td>\n",
              "      <td>0</td>\n",
              "      <td>0</td>\n",
              "      <td>0</td>\n",
              "      <td>0</td>\n",
              "      <td>0</td>\n",
              "      <td>0</td>\n",
              "      <td>0</td>\n",
              "      <td>0</td>\n",
              "      <td>0</td>\n",
              "      <td>0</td>\n",
              "      <td>0</td>\n",
              "      <td>0</td>\n",
              "      <td>0</td>\n",
              "      <td>0</td>\n",
              "      <td>0</td>\n",
              "      <td>0</td>\n",
              "      <td>0</td>\n",
              "      <td>0</td>\n",
              "      <td>0</td>\n",
              "      <td>0</td>\n",
              "      <td>0</td>\n",
              "      <td>0</td>\n",
              "      <td>0</td>\n",
              "      <td>0</td>\n",
              "      <td>0</td>\n",
              "      <td>0</td>\n",
              "      <td>0</td>\n",
              "      <td>0</td>\n",
              "      <td>0</td>\n",
              "    </tr>\n",
              "    <tr>\n",
              "      <th>2</th>\n",
              "      <td>2</td>\n",
              "      <td>3.0</td>\n",
              "      <td>2.0</td>\n",
              "      <td>150.0</td>\n",
              "      <td>1750.0</td>\n",
              "      <td>3</td>\n",
              "      <td>8571.428571</td>\n",
              "      <td>1</td>\n",
              "      <td>0</td>\n",
              "      <td>0</td>\n",
              "      <td>1</td>\n",
              "      <td>0</td>\n",
              "      <td>0</td>\n",
              "      <td>0</td>\n",
              "      <td>0</td>\n",
              "      <td>0</td>\n",
              "      <td>0</td>\n",
              "      <td>0</td>\n",
              "      <td>0</td>\n",
              "      <td>0</td>\n",
              "      <td>0</td>\n",
              "      <td>0</td>\n",
              "      <td>0</td>\n",
              "      <td>0</td>\n",
              "      <td>0</td>\n",
              "      <td>0</td>\n",
              "      <td>0</td>\n",
              "      <td>0</td>\n",
              "      <td>0</td>\n",
              "      <td>0</td>\n",
              "      <td>0</td>\n",
              "      <td>0</td>\n",
              "      <td>0</td>\n",
              "      <td>0</td>\n",
              "      <td>0</td>\n",
              "      <td>0</td>\n",
              "      <td>0</td>\n",
              "      <td>0</td>\n",
              "      <td>0</td>\n",
              "      <td>0</td>\n",
              "      <td>0</td>\n",
              "      <td>0</td>\n",
              "      <td>0</td>\n",
              "      <td>0</td>\n",
              "      <td>0</td>\n",
              "      <td>0</td>\n",
              "      <td>0</td>\n",
              "      <td>0</td>\n",
              "      <td>0</td>\n",
              "      <td>0</td>\n",
              "      <td>0</td>\n",
              "      <td>0</td>\n",
              "      <td>0</td>\n",
              "      <td>0</td>\n",
              "      <td>0</td>\n",
              "      <td>0</td>\n",
              "      <td>0</td>\n",
              "      <td>0</td>\n",
              "      <td>0</td>\n",
              "      <td>0</td>\n",
              "      <td>0</td>\n",
              "      <td>0</td>\n",
              "      <td>0</td>\n",
              "      <td>0</td>\n",
              "      <td>0</td>\n",
              "      <td>0</td>\n",
              "      <td>0</td>\n",
              "      <td>0</td>\n",
              "      <td>0</td>\n",
              "      <td>0</td>\n",
              "      <td>0</td>\n",
              "      <td>0</td>\n",
              "      <td>0</td>\n",
              "      <td>0</td>\n",
              "      <td>0</td>\n",
              "      <td>0</td>\n",
              "      <td>0</td>\n",
              "      <td>0</td>\n",
              "      <td>0</td>\n",
              "      <td>0</td>\n",
              "      <td>0</td>\n",
              "      <td>0</td>\n",
              "      <td>0</td>\n",
              "      <td>0</td>\n",
              "      <td>0</td>\n",
              "      <td>0</td>\n",
              "      <td>0</td>\n",
              "      <td>0</td>\n",
              "      <td>0</td>\n",
              "      <td>0</td>\n",
              "      <td>0</td>\n",
              "      <td>0</td>\n",
              "      <td>0</td>\n",
              "      <td>0</td>\n",
              "      <td>0</td>\n",
              "      <td>0</td>\n",
              "      <td>0</td>\n",
              "      <td>0</td>\n",
              "      <td>0</td>\n",
              "      <td>0</td>\n",
              "      <td>0</td>\n",
              "      <td>0</td>\n",
              "      <td>0</td>\n",
              "      <td>0</td>\n",
              "      <td>0</td>\n",
              "      <td>0</td>\n",
              "      <td>0</td>\n",
              "      <td>0</td>\n",
              "      <td>0</td>\n",
              "    </tr>\n",
              "    <tr>\n",
              "      <th>3</th>\n",
              "      <td>4</td>\n",
              "      <td>2.0</td>\n",
              "      <td>2.0</td>\n",
              "      <td>40.0</td>\n",
              "      <td>1250.0</td>\n",
              "      <td>2</td>\n",
              "      <td>3200.000000</td>\n",
              "      <td>1</td>\n",
              "      <td>0</td>\n",
              "      <td>0</td>\n",
              "      <td>1</td>\n",
              "      <td>0</td>\n",
              "      <td>0</td>\n",
              "      <td>0</td>\n",
              "      <td>0</td>\n",
              "      <td>0</td>\n",
              "      <td>0</td>\n",
              "      <td>0</td>\n",
              "      <td>0</td>\n",
              "      <td>0</td>\n",
              "      <td>0</td>\n",
              "      <td>0</td>\n",
              "      <td>0</td>\n",
              "      <td>0</td>\n",
              "      <td>0</td>\n",
              "      <td>0</td>\n",
              "      <td>0</td>\n",
              "      <td>0</td>\n",
              "      <td>0</td>\n",
              "      <td>0</td>\n",
              "      <td>0</td>\n",
              "      <td>0</td>\n",
              "      <td>0</td>\n",
              "      <td>0</td>\n",
              "      <td>0</td>\n",
              "      <td>0</td>\n",
              "      <td>0</td>\n",
              "      <td>0</td>\n",
              "      <td>0</td>\n",
              "      <td>0</td>\n",
              "      <td>0</td>\n",
              "      <td>0</td>\n",
              "      <td>0</td>\n",
              "      <td>0</td>\n",
              "      <td>0</td>\n",
              "      <td>0</td>\n",
              "      <td>0</td>\n",
              "      <td>0</td>\n",
              "      <td>0</td>\n",
              "      <td>0</td>\n",
              "      <td>0</td>\n",
              "      <td>0</td>\n",
              "      <td>0</td>\n",
              "      <td>0</td>\n",
              "      <td>0</td>\n",
              "      <td>0</td>\n",
              "      <td>0</td>\n",
              "      <td>0</td>\n",
              "      <td>0</td>\n",
              "      <td>0</td>\n",
              "      <td>0</td>\n",
              "      <td>0</td>\n",
              "      <td>0</td>\n",
              "      <td>0</td>\n",
              "      <td>0</td>\n",
              "      <td>0</td>\n",
              "      <td>0</td>\n",
              "      <td>0</td>\n",
              "      <td>0</td>\n",
              "      <td>0</td>\n",
              "      <td>0</td>\n",
              "      <td>0</td>\n",
              "      <td>0</td>\n",
              "      <td>0</td>\n",
              "      <td>0</td>\n",
              "      <td>0</td>\n",
              "      <td>0</td>\n",
              "      <td>0</td>\n",
              "      <td>0</td>\n",
              "      <td>0</td>\n",
              "      <td>0</td>\n",
              "      <td>0</td>\n",
              "      <td>0</td>\n",
              "      <td>0</td>\n",
              "      <td>0</td>\n",
              "      <td>0</td>\n",
              "      <td>0</td>\n",
              "      <td>0</td>\n",
              "      <td>0</td>\n",
              "      <td>0</td>\n",
              "      <td>0</td>\n",
              "      <td>0</td>\n",
              "      <td>0</td>\n",
              "      <td>0</td>\n",
              "      <td>0</td>\n",
              "      <td>0</td>\n",
              "      <td>0</td>\n",
              "      <td>0</td>\n",
              "      <td>0</td>\n",
              "      <td>0</td>\n",
              "      <td>0</td>\n",
              "      <td>0</td>\n",
              "      <td>0</td>\n",
              "      <td>0</td>\n",
              "      <td>0</td>\n",
              "      <td>0</td>\n",
              "      <td>0</td>\n",
              "      <td>0</td>\n",
              "      <td>0</td>\n",
              "    </tr>\n",
              "    <tr>\n",
              "      <th>4</th>\n",
              "      <td>5</td>\n",
              "      <td>2.0</td>\n",
              "      <td>2.0</td>\n",
              "      <td>83.0</td>\n",
              "      <td>1200.0</td>\n",
              "      <td>2</td>\n",
              "      <td>6916.666667</td>\n",
              "      <td>0</td>\n",
              "      <td>0</td>\n",
              "      <td>1</td>\n",
              "      <td>1</td>\n",
              "      <td>0</td>\n",
              "      <td>0</td>\n",
              "      <td>0</td>\n",
              "      <td>0</td>\n",
              "      <td>0</td>\n",
              "      <td>0</td>\n",
              "      <td>0</td>\n",
              "      <td>0</td>\n",
              "      <td>0</td>\n",
              "      <td>0</td>\n",
              "      <td>0</td>\n",
              "      <td>0</td>\n",
              "      <td>0</td>\n",
              "      <td>0</td>\n",
              "      <td>0</td>\n",
              "      <td>0</td>\n",
              "      <td>0</td>\n",
              "      <td>0</td>\n",
              "      <td>0</td>\n",
              "      <td>0</td>\n",
              "      <td>0</td>\n",
              "      <td>0</td>\n",
              "      <td>0</td>\n",
              "      <td>0</td>\n",
              "      <td>0</td>\n",
              "      <td>0</td>\n",
              "      <td>0</td>\n",
              "      <td>0</td>\n",
              "      <td>0</td>\n",
              "      <td>0</td>\n",
              "      <td>0</td>\n",
              "      <td>0</td>\n",
              "      <td>0</td>\n",
              "      <td>0</td>\n",
              "      <td>0</td>\n",
              "      <td>0</td>\n",
              "      <td>0</td>\n",
              "      <td>0</td>\n",
              "      <td>0</td>\n",
              "      <td>0</td>\n",
              "      <td>0</td>\n",
              "      <td>0</td>\n",
              "      <td>0</td>\n",
              "      <td>0</td>\n",
              "      <td>0</td>\n",
              "      <td>0</td>\n",
              "      <td>0</td>\n",
              "      <td>0</td>\n",
              "      <td>0</td>\n",
              "      <td>0</td>\n",
              "      <td>0</td>\n",
              "      <td>0</td>\n",
              "      <td>0</td>\n",
              "      <td>0</td>\n",
              "      <td>0</td>\n",
              "      <td>0</td>\n",
              "      <td>0</td>\n",
              "      <td>0</td>\n",
              "      <td>0</td>\n",
              "      <td>0</td>\n",
              "      <td>0</td>\n",
              "      <td>0</td>\n",
              "      <td>0</td>\n",
              "      <td>0</td>\n",
              "      <td>0</td>\n",
              "      <td>0</td>\n",
              "      <td>0</td>\n",
              "      <td>0</td>\n",
              "      <td>0</td>\n",
              "      <td>0</td>\n",
              "      <td>0</td>\n",
              "      <td>0</td>\n",
              "      <td>0</td>\n",
              "      <td>0</td>\n",
              "      <td>0</td>\n",
              "      <td>0</td>\n",
              "      <td>0</td>\n",
              "      <td>0</td>\n",
              "      <td>0</td>\n",
              "      <td>0</td>\n",
              "      <td>0</td>\n",
              "      <td>0</td>\n",
              "      <td>0</td>\n",
              "      <td>0</td>\n",
              "      <td>0</td>\n",
              "      <td>0</td>\n",
              "      <td>0</td>\n",
              "      <td>0</td>\n",
              "      <td>0</td>\n",
              "      <td>0</td>\n",
              "      <td>0</td>\n",
              "      <td>0</td>\n",
              "      <td>0</td>\n",
              "      <td>0</td>\n",
              "      <td>0</td>\n",
              "      <td>0</td>\n",
              "      <td>0</td>\n",
              "      <td>0</td>\n",
              "    </tr>\n",
              "  </tbody>\n",
              "</table>\n",
              "</div>"
            ],
            "text/plain": [
              "   Unnamed: 0  bath  balcony  price  total_sqft_int  bhk  price_per_sqft  \\\n",
              "0           0   3.0      2.0  150.0          1672.0    3     8971.291866   \n",
              "1           1   3.0      3.0  149.0          1750.0    3     8514.285714   \n",
              "2           2   3.0      2.0  150.0          1750.0    3     8571.428571   \n",
              "3           4   2.0      2.0   40.0          1250.0    2     3200.000000   \n",
              "4           5   2.0      2.0   83.0          1200.0    2     6916.666667   \n",
              "\n",
              "   area_typeSuper built-up  Area  area_typeBuilt-up  Area  \\\n",
              "0                              1                        0   \n",
              "1                              0                        1   \n",
              "2                              1                        0   \n",
              "3                              1                        0   \n",
              "4                              0                        0   \n",
              "\n",
              "   area_typePlot  Area  availability_Ready To Move  location_Whitefield  \\\n",
              "0                    0                           1                    0   \n",
              "1                    0                           1                    0   \n",
              "2                    0                           1                    0   \n",
              "3                    0                           1                    0   \n",
              "4                    1                           1                    0   \n",
              "\n",
              "   location_Sarjapur  Road  location_Electronic City  \\\n",
              "0                        0                         0   \n",
              "1                        0                         0   \n",
              "2                        0                         0   \n",
              "3                        0                         0   \n",
              "4                        0                         0   \n",
              "\n",
              "   location_Raja Rajeshwari Nagar  location_Marathahalli  \\\n",
              "0                               0                      0   \n",
              "1                               0                      0   \n",
              "2                               0                      0   \n",
              "3                               0                      0   \n",
              "4                               0                      0   \n",
              "\n",
              "   location_Haralur Road  location_Hennur Road  location_Bannerghatta Road  \\\n",
              "0                      0                     0                           0   \n",
              "1                      0                     0                           0   \n",
              "2                      0                     0                           0   \n",
              "3                      0                     0                           0   \n",
              "4                      0                     0                           0   \n",
              "\n",
              "   location_Uttarahalli  location_Thanisandra  \\\n",
              "0                     0                     0   \n",
              "1                     0                     0   \n",
              "2                     0                     0   \n",
              "3                     0                     0   \n",
              "4                     0                     0   \n",
              "\n",
              "   location_Electronic City Phase II  location_Hebbal  location_Yelahanka  \\\n",
              "0                                  0                0                   0   \n",
              "1                                  0                0                   0   \n",
              "2                                  0                0                   0   \n",
              "3                                  0                0                   0   \n",
              "4                                  0                0                   0   \n",
              "\n",
              "   location_7th Phase JP Nagar  location_Kanakpura Road  location_KR Puram  \\\n",
              "0                            0                        0                  0   \n",
              "1                            0                        0                  0   \n",
              "2                            0                        0                  0   \n",
              "3                            0                        0                  0   \n",
              "4                            0                        0                  0   \n",
              "\n",
              "   location_Sarjapur  location_Rajaji Nagar  location_Bellandur  \\\n",
              "0                  0                      0                   0   \n",
              "1                  0                      0                   0   \n",
              "2                  0                      0                   0   \n",
              "3                  0                      0                   0   \n",
              "4                  0                      0                   0   \n",
              "\n",
              "   location_Kasavanhalli  location_Begur Road  location_Kothanur  \\\n",
              "0                      0                    0                  0   \n",
              "1                      0                    0                  0   \n",
              "2                      0                    0                  0   \n",
              "3                      0                    0                  0   \n",
              "4                      0                    0                  0   \n",
              "\n",
              "   location_Banashankari  location_Hormavu  location_Harlur  \\\n",
              "0                      0                 0                0   \n",
              "1                      0                 0                0   \n",
              "2                      0                 0                0   \n",
              "3                      0                 0                0   \n",
              "4                      0                 0                0   \n",
              "\n",
              "   location_Akshaya Nagar  location_Jakkur  location_Electronics City Phase 1  \\\n",
              "0                       0                0                                  0   \n",
              "1                       0                0                                  0   \n",
              "2                       0                0                                  0   \n",
              "3                       0                0                                  0   \n",
              "4                       0                0                                  0   \n",
              "\n",
              "   location_Varthur  location_HSR Layout  location_Chandapura  \\\n",
              "0                 0                    0                    0   \n",
              "1                 0                    0                    0   \n",
              "2                 0                    0                    0   \n",
              "3                 0                    0                    0   \n",
              "4                 0                    0                    0   \n",
              "\n",
              "   location_Ramamurthy Nagar  location_Hennur  location_Kundalahalli  \\\n",
              "0                          0                0                      0   \n",
              "1                          0                0                      0   \n",
              "2                          0                0                      0   \n",
              "3                          0                0                      0   \n",
              "4                          0                0                      0   \n",
              "\n",
              "   location_Ramagondanahalli  location_Kaggadasapura  location_Koramangala  \\\n",
              "0                          0                       0                     0   \n",
              "1                          0                       0                     0   \n",
              "2                          0                       0                     0   \n",
              "3                          0                       0                     0   \n",
              "4                          0                       0                     0   \n",
              "\n",
              "   location_Hulimavu  location_Budigere  location_Hoodi  \\\n",
              "0                  0                  0               0   \n",
              "1                  0                  0               0   \n",
              "2                  0                  0               0   \n",
              "3                  0                  0               0   \n",
              "4                  0                  0               0   \n",
              "\n",
              "   location_Malleshwaram  location_JP Nagar  location_Hegde Nagar  \\\n",
              "0                      0                  0                     0   \n",
              "1                      0                  0                     0   \n",
              "2                      0                  0                     0   \n",
              "3                      0                  0                     0   \n",
              "4                      0                  0                     0   \n",
              "\n",
              "   location_Yeshwanthpur  location_8th Phase JP Nagar  location_Gottigere  \\\n",
              "0                      0                            0                   0   \n",
              "1                      0                            0                   0   \n",
              "2                      0                            0                   0   \n",
              "3                      0                            0                   0   \n",
              "4                      0                            0                   0   \n",
              "\n",
              "   location_Channasandra  location_Bisuvanahalli  location_Vittasandra  \\\n",
              "0                      0                       0                     0   \n",
              "1                      0                       0                     0   \n",
              "2                      0                       0                     0   \n",
              "3                      0                       0                     0   \n",
              "4                      0                       0                     0   \n",
              "\n",
              "   location_Indira Nagar  location_Brookefield  location_Vijayanagar  \\\n",
              "0                      0                     0                     0   \n",
              "1                      0                     0                     0   \n",
              "2                      0                     0                     0   \n",
              "3                      0                     0                     0   \n",
              "4                      0                     0                     0   \n",
              "\n",
              "   location_Old Airport Road  location_Sahakara Nagar  location_Hosa Road  \\\n",
              "0                          0                        0                   0   \n",
              "1                          0                        0                   0   \n",
              "2                          0                        0                   0   \n",
              "3                          0                        0                   0   \n",
              "4                          0                        0                   0   \n",
              "\n",
              "   location_Kengeri  location_Bommasandra  location_Green Glen Layout  \\\n",
              "0                 0                     0                           0   \n",
              "1                 0                     0                           0   \n",
              "2                 0                     0                           0   \n",
              "3                 0                     0                           0   \n",
              "4                 0                     0                           0   \n",
              "\n",
              "   location_Balagere  location_Old Madras Road  location_Kudlu Gate  \\\n",
              "0                  0                         0                    0   \n",
              "1                  0                         0                    0   \n",
              "2                  0                         0                    0   \n",
              "3                  0                         0                    0   \n",
              "4                  0                         0                    0   \n",
              "\n",
              "   location_Panathur  location_Rachenahalli  location_Yelahanka New Town  \\\n",
              "0                  0                      0                            0   \n",
              "1                  0                      0                            0   \n",
              "2                  0                      0                            0   \n",
              "3                  0                      0                            0   \n",
              "4                  0                      0                            0   \n",
              "\n",
              "   location_Jigani  location_Kadugodi  location_Talaghattapura  \\\n",
              "0                0                  0                        0   \n",
              "1                0                  0                        0   \n",
              "2                0                  0                        0   \n",
              "3                0                  0                        0   \n",
              "4                0                  0                        0   \n",
              "\n",
              "   location_Thigalarapalya  location_Mysore Road  location_Ambedkar Nagar  \\\n",
              "0                        0                     0                        0   \n",
              "1                        0                     0                        0   \n",
              "2                        0                     0                        0   \n",
              "3                        0                     0                        0   \n",
              "4                        0                     0                        0   \n",
              "\n",
              "   location_Frazer Town  location_Dodda Nekkundi  location_Attibele  \\\n",
              "0                     0                        0                  0   \n",
              "1                     0                        0                  0   \n",
              "2                     0                        0                  0   \n",
              "3                     0                        0                  0   \n",
              "4                     0                        0                  0   \n",
              "\n",
              "   location_Kanakapura  location_Devanahalli  location_Nagarbhavi  \\\n",
              "0                    0                     0                    0   \n",
              "1                    0                     0                    0   \n",
              "2                    0                     0                    0   \n",
              "3                    0                     0                    0   \n",
              "4                    0                     0                    0   \n",
              "\n",
              "   location_TC Palaya  location_Lakshminarayana Pura  \\\n",
              "0                   0                              0   \n",
              "1                   0                              0   \n",
              "2                   0                              0   \n",
              "3                   0                              0   \n",
              "4                   0                              0   \n",
              "\n",
              "   location_5th Phase JP Nagar  location_Anekal  location_Ananth Nagar  \\\n",
              "0                            0                0                      0   \n",
              "1                            0                0                      0   \n",
              "2                            0                0                      0   \n",
              "3                            0                0                      0   \n",
              "4                            0                0                      0   \n",
              "\n",
              "   location_Jalahalli  location_CV Raman Nagar  \\\n",
              "0                   0                        0   \n",
              "1                   0                        0   \n",
              "2                   0                        0   \n",
              "3                   0                        0   \n",
              "4                   0                        0   \n",
              "\n",
              "   location_Kengeri Satellite Town  location_Kudlu  location_Bhoganhalli  \\\n",
              "0                                0               0                     0   \n",
              "1                                0               0                     0   \n",
              "2                                0               0                     0   \n",
              "3                                0               0                     0   \n",
              "4                                0               0                     0   \n",
              "\n",
              "   location_Doddathoguru  location_Subramanyapura  location_Kalena Agrahara  \\\n",
              "0                      0                        0                         0   \n",
              "1                      0                        0                         0   \n",
              "2                      0                        0                         0   \n",
              "3                      0                        0                         0   \n",
              "4                      0                        0                         0   \n",
              "\n",
              "   location_Horamavu Agara  location_Hosur Road  location_Vidyaranyapura  \\\n",
              "0                        0                    0                        0   \n",
              "1                        0                    0                        0   \n",
              "2                        0                    0                        0   \n",
              "3                        0                    0                        0   \n",
              "4                        0                    0                        0   \n",
              "\n",
              "   location_Hebbal Kempapura  location_BTM 2nd Stage  location_Mahadevpura  \\\n",
              "0                          0                       0                     0   \n",
              "1                          0                       0                     0   \n",
              "2                          0                       0                     0   \n",
              "3                          0                       0                     0   \n",
              "4                          0                       0                     0   \n",
              "\n",
              "   location_Horamavu Banaswadi  location_Domlur  location_Tumkur Road  \n",
              "0                            0                0                     0  \n",
              "1                            0                0                     0  \n",
              "2                            0                0                     0  \n",
              "3                            0                0                     0  \n",
              "4                            0                0                     0  "
            ]
          },
          "metadata": {
            "tags": []
          },
          "execution_count": 6
        }
      ]
    },
    {
      "cell_type": "code",
      "metadata": {
        "colab": {
          "base_uri": "https://localhost:8080/",
          "height": 204
        },
        "id": "y7UEhvYVSK4J",
        "outputId": "e3f630a3-964c-4986-f1bd-65a89bc18117"
      },
      "source": [
        "table = table.drop(['Unnamed: 0'], axis=1)\n",
        "table.drop(table.iloc[:, 6:-1], inplace = True, axis = 1)\n",
        "table = table.drop(['location_Tumkur Road'], axis=1)\n",
        "table.head()"
      ],
      "execution_count": 7,
      "outputs": [
        {
          "output_type": "execute_result",
          "data": {
            "text/html": [
              "<div>\n",
              "<style scoped>\n",
              "    .dataframe tbody tr th:only-of-type {\n",
              "        vertical-align: middle;\n",
              "    }\n",
              "\n",
              "    .dataframe tbody tr th {\n",
              "        vertical-align: top;\n",
              "    }\n",
              "\n",
              "    .dataframe thead th {\n",
              "        text-align: right;\n",
              "    }\n",
              "</style>\n",
              "<table border=\"1\" class=\"dataframe\">\n",
              "  <thead>\n",
              "    <tr style=\"text-align: right;\">\n",
              "      <th></th>\n",
              "      <th>bath</th>\n",
              "      <th>balcony</th>\n",
              "      <th>price</th>\n",
              "      <th>total_sqft_int</th>\n",
              "      <th>bhk</th>\n",
              "      <th>price_per_sqft</th>\n",
              "    </tr>\n",
              "  </thead>\n",
              "  <tbody>\n",
              "    <tr>\n",
              "      <th>0</th>\n",
              "      <td>3.0</td>\n",
              "      <td>2.0</td>\n",
              "      <td>150.0</td>\n",
              "      <td>1672.0</td>\n",
              "      <td>3</td>\n",
              "      <td>8971.291866</td>\n",
              "    </tr>\n",
              "    <tr>\n",
              "      <th>1</th>\n",
              "      <td>3.0</td>\n",
              "      <td>3.0</td>\n",
              "      <td>149.0</td>\n",
              "      <td>1750.0</td>\n",
              "      <td>3</td>\n",
              "      <td>8514.285714</td>\n",
              "    </tr>\n",
              "    <tr>\n",
              "      <th>2</th>\n",
              "      <td>3.0</td>\n",
              "      <td>2.0</td>\n",
              "      <td>150.0</td>\n",
              "      <td>1750.0</td>\n",
              "      <td>3</td>\n",
              "      <td>8571.428571</td>\n",
              "    </tr>\n",
              "    <tr>\n",
              "      <th>3</th>\n",
              "      <td>2.0</td>\n",
              "      <td>2.0</td>\n",
              "      <td>40.0</td>\n",
              "      <td>1250.0</td>\n",
              "      <td>2</td>\n",
              "      <td>3200.000000</td>\n",
              "    </tr>\n",
              "    <tr>\n",
              "      <th>4</th>\n",
              "      <td>2.0</td>\n",
              "      <td>2.0</td>\n",
              "      <td>83.0</td>\n",
              "      <td>1200.0</td>\n",
              "      <td>2</td>\n",
              "      <td>6916.666667</td>\n",
              "    </tr>\n",
              "  </tbody>\n",
              "</table>\n",
              "</div>"
            ],
            "text/plain": [
              "   bath  balcony  price  total_sqft_int  bhk  price_per_sqft\n",
              "0   3.0      2.0  150.0          1672.0    3     8971.291866\n",
              "1   3.0      3.0  149.0          1750.0    3     8514.285714\n",
              "2   3.0      2.0  150.0          1750.0    3     8571.428571\n",
              "3   2.0      2.0   40.0          1250.0    2     3200.000000\n",
              "4   2.0      2.0   83.0          1200.0    2     6916.666667"
            ]
          },
          "metadata": {
            "tags": []
          },
          "execution_count": 7
        }
      ]
    },
    {
      "cell_type": "code",
      "metadata": {
        "colab": {
          "base_uri": "https://localhost:8080/",
          "height": 297
        },
        "id": "3OzL_p6A0-oR",
        "outputId": "6014294c-e057-48f7-a180-6752134a5079"
      },
      "source": [
        "table.describe()"
      ],
      "execution_count": 8,
      "outputs": [
        {
          "output_type": "execute_result",
          "data": {
            "text/html": [
              "<div>\n",
              "<style scoped>\n",
              "    .dataframe tbody tr th:only-of-type {\n",
              "        vertical-align: middle;\n",
              "    }\n",
              "\n",
              "    .dataframe tbody tr th {\n",
              "        vertical-align: top;\n",
              "    }\n",
              "\n",
              "    .dataframe thead th {\n",
              "        text-align: right;\n",
              "    }\n",
              "</style>\n",
              "<table border=\"1\" class=\"dataframe\">\n",
              "  <thead>\n",
              "    <tr style=\"text-align: right;\">\n",
              "      <th></th>\n",
              "      <th>bath</th>\n",
              "      <th>balcony</th>\n",
              "      <th>price</th>\n",
              "      <th>total_sqft_int</th>\n",
              "      <th>bhk</th>\n",
              "      <th>price_per_sqft</th>\n",
              "    </tr>\n",
              "  </thead>\n",
              "  <tbody>\n",
              "    <tr>\n",
              "      <th>count</th>\n",
              "      <td>7120.000000</td>\n",
              "      <td>7120.000000</td>\n",
              "      <td>7120.000000</td>\n",
              "      <td>7120.000000</td>\n",
              "      <td>7120.000000</td>\n",
              "      <td>7120.000000</td>\n",
              "    </tr>\n",
              "    <tr>\n",
              "      <th>mean</th>\n",
              "      <td>2.390871</td>\n",
              "      <td>1.572759</td>\n",
              "      <td>96.454991</td>\n",
              "      <td>1479.729806</td>\n",
              "      <td>2.465169</td>\n",
              "      <td>5923.806855</td>\n",
              "    </tr>\n",
              "    <tr>\n",
              "      <th>std</th>\n",
              "      <td>0.876822</td>\n",
              "      <td>0.770583</td>\n",
              "      <td>116.185034</td>\n",
              "      <td>913.779769</td>\n",
              "      <td>0.841520</td>\n",
              "      <td>2556.650935</td>\n",
              "    </tr>\n",
              "    <tr>\n",
              "      <th>min</th>\n",
              "      <td>1.000000</td>\n",
              "      <td>0.000000</td>\n",
              "      <td>10.000000</td>\n",
              "      <td>350.000000</td>\n",
              "      <td>1.000000</td>\n",
              "      <td>1250.000000</td>\n",
              "    </tr>\n",
              "    <tr>\n",
              "      <th>25%</th>\n",
              "      <td>2.000000</td>\n",
              "      <td>1.000000</td>\n",
              "      <td>49.230000</td>\n",
              "      <td>1100.000000</td>\n",
              "      <td>2.000000</td>\n",
              "      <td>4416.761042</td>\n",
              "    </tr>\n",
              "    <tr>\n",
              "      <th>50%</th>\n",
              "      <td>2.000000</td>\n",
              "      <td>2.000000</td>\n",
              "      <td>69.000000</td>\n",
              "      <td>1255.000000</td>\n",
              "      <td>2.000000</td>\n",
              "      <td>5417.855613</td>\n",
              "    </tr>\n",
              "    <tr>\n",
              "      <th>75%</th>\n",
              "      <td>3.000000</td>\n",
              "      <td>2.000000</td>\n",
              "      <td>104.000000</td>\n",
              "      <td>1640.250000</td>\n",
              "      <td>3.000000</td>\n",
              "      <td>6618.285651</td>\n",
              "    </tr>\n",
              "    <tr>\n",
              "      <th>max</th>\n",
              "      <td>9.000000</td>\n",
              "      <td>3.000000</td>\n",
              "      <td>2912.000000</td>\n",
              "      <td>30400.000000</td>\n",
              "      <td>9.000000</td>\n",
              "      <td>35000.000000</td>\n",
              "    </tr>\n",
              "  </tbody>\n",
              "</table>\n",
              "</div>"
            ],
            "text/plain": [
              "              bath      balcony        price  total_sqft_int          bhk  \\\n",
              "count  7120.000000  7120.000000  7120.000000     7120.000000  7120.000000   \n",
              "mean      2.390871     1.572759    96.454991     1479.729806     2.465169   \n",
              "std       0.876822     0.770583   116.185034      913.779769     0.841520   \n",
              "min       1.000000     0.000000    10.000000      350.000000     1.000000   \n",
              "25%       2.000000     1.000000    49.230000     1100.000000     2.000000   \n",
              "50%       2.000000     2.000000    69.000000     1255.000000     2.000000   \n",
              "75%       3.000000     2.000000   104.000000     1640.250000     3.000000   \n",
              "max       9.000000     3.000000  2912.000000    30400.000000     9.000000   \n",
              "\n",
              "       price_per_sqft  \n",
              "count     7120.000000  \n",
              "mean      5923.806855  \n",
              "std       2556.650935  \n",
              "min       1250.000000  \n",
              "25%       4416.761042  \n",
              "50%       5417.855613  \n",
              "75%       6618.285651  \n",
              "max      35000.000000  "
            ]
          },
          "metadata": {
            "tags": []
          },
          "execution_count": 8
        }
      ]
    },
    {
      "cell_type": "markdown",
      "metadata": {
        "id": "axowdsatcJaQ"
      },
      "source": [
        "# Data Splitting"
      ]
    },
    {
      "cell_type": "code",
      "metadata": {
        "colab": {
          "base_uri": "https://localhost:8080/"
        },
        "id": "PU_DeM90b7As",
        "outputId": "4642c6be-2f89-4e4b-dfce-3801947b4199"
      },
      "source": [
        "X = table.drop(\"price\", axis=1)\n",
        "y = table['price']\n",
        "print('Shape of X = ', X.shape)\n",
        "print('Shape of y = ', y.shape)"
      ],
      "execution_count": 9,
      "outputs": [
        {
          "output_type": "stream",
          "text": [
            "Shape of X =  (7120, 5)\n",
            "Shape of y =  (7120,)\n"
          ],
          "name": "stdout"
        }
      ]
    },
    {
      "cell_type": "code",
      "metadata": {
        "colab": {
          "base_uri": "https://localhost:8080/"
        },
        "id": "aNVLPL-rcNwa",
        "outputId": "942fa21d-c9c7-474b-850c-e42b88e4a9cd"
      },
      "source": [
        "X_train, X_test, y_train, y_test = train_test_split(X, y, test_size = 0.2, random_state = 51)\n",
        "print('Shape of X_train = ', X_train.shape)\n",
        "print('Shape of y_train = ', y_train.shape)\n",
        "print('Shape of X_test = ', X_test.shape)\n",
        "print('Shape of y_test = ', y_test.shape)"
      ],
      "execution_count": 10,
      "outputs": [
        {
          "output_type": "stream",
          "text": [
            "Shape of X_train =  (5696, 5)\n",
            "Shape of y_train =  (5696,)\n",
            "Shape of X_test =  (1424, 5)\n",
            "Shape of y_test =  (1424,)\n"
          ],
          "name": "stdout"
        }
      ]
    },
    {
      "cell_type": "markdown",
      "metadata": {
        "id": "k65LC4_qcYpm"
      },
      "source": [
        "## Data Normalisation"
      ]
    },
    {
      "cell_type": "code",
      "metadata": {
        "id": "D1BCc8gAcUi6"
      },
      "source": [
        "sc = StandardScaler()\n",
        "sc.fit(X_train)\n",
        "X_train= sc.transform(X_train)\n",
        "X_test = sc.transform(X_test)"
      ],
      "execution_count": 11,
      "outputs": []
    },
    {
      "cell_type": "markdown",
      "metadata": {
        "id": "Oh43OeUnfZAq"
      },
      "source": [
        "# Algorithms"
      ]
    },
    {
      "cell_type": "markdown",
      "metadata": {
        "id": "d9-YKvESfcmd"
      },
      "source": [
        "## Linear Regression"
      ]
    },
    {
      "cell_type": "code",
      "metadata": {
        "id": "GfPL9vJLcfXr"
      },
      "source": [
        "lr = LinearRegression()"
      ],
      "execution_count": 12,
      "outputs": []
    },
    {
      "cell_type": "code",
      "metadata": {
        "id": "pG9byhg5YWGR"
      },
      "source": [
        "def rmse(y_test, y_pred):\n",
        "  return np.sqrt(mean_squared_error(y_test, y_pred))"
      ],
      "execution_count": 13,
      "outputs": []
    },
    {
      "cell_type": "code",
      "metadata": {
        "colab": {
          "base_uri": "https://localhost:8080/"
        },
        "id": "WYm8ArSoff1p",
        "outputId": "5bf3c263-285f-48ba-c566-86fdb06c52b1"
      },
      "source": [
        "lr.fit(X_train, y_train)\n",
        "lr_eff = lr.score(X_test, y_test)\n",
        "lr_rmse = rmse(y_test, lr.predict(X_test))\n",
        "lr_eff, lr_rmse"
      ],
      "execution_count": 14,
      "outputs": [
        {
          "output_type": "execute_result",
          "data": {
            "text/plain": [
              "(0.7837532911322952, 65.91685277030534)"
            ]
          },
          "metadata": {
            "tags": []
          },
          "execution_count": 14
        }
      ]
    },
    {
      "cell_type": "markdown",
      "metadata": {
        "id": "JjxIDyROgFj4"
      },
      "source": [
        "## XGBoost"
      ]
    },
    {
      "cell_type": "code",
      "metadata": {
        "colab": {
          "base_uri": "https://localhost:8080/"
        },
        "id": "GefSOPbqf-4d",
        "outputId": "2038ca3e-4bff-4092-9629-5a2bc0d208b7"
      },
      "source": [
        "import xgboost\n",
        "xgb_reg = xgboost.XGBRegressor()\n",
        "xgb_reg.fit(X_train,y_train)\n",
        "xgb_reg_eff=xgb_reg.score(X_test,y_test)\n",
        "xgb_reg_rmse = rmse(y_test, xgb_reg.predict(X_test))\n",
        "xgb_reg_eff, xgb_reg_rmse"
      ],
      "execution_count": 15,
      "outputs": [
        {
          "output_type": "stream",
          "text": [
            "[10:32:26] WARNING: /workspace/src/objective/regression_obj.cu:152: reg:linear is now deprecated in favor of reg:squarederror.\n"
          ],
          "name": "stdout"
        },
        {
          "output_type": "execute_result",
          "data": {
            "text/plain": [
              "(0.8833515313052481, 48.41291483271873)"
            ]
          },
          "metadata": {
            "tags": []
          },
          "execution_count": 15
        }
      ]
    },
    {
      "cell_type": "code",
      "metadata": {
        "colab": {
          "base_uri": "https://localhost:8080/"
        },
        "id": "SjqSFnK4atAI",
        "outputId": "32a63681-75a1-4329-9ad0-50cf97e6fcfe"
      },
      "source": [
        "print(pd.DataFrame([{'Model': 'Linear Regression','Efficiency':lr_eff, \"RMSE\":lr_rmse},\n",
        "              {'Model': 'XGBoost','Efficiency':xgb_reg_eff, \"RMSE\":xgb_reg_rmse}],\n",
        "             columns=['Model','Efficiency','RMSE']))"
      ],
      "execution_count": 16,
      "outputs": [
        {
          "output_type": "stream",
          "text": [
            "               Model  Efficiency       RMSE\n",
            "0  Linear Regression    0.783753  65.916853\n",
            "1            XGBoost    0.883352  48.412915\n"
          ],
          "name": "stdout"
        }
      ]
    },
    {
      "cell_type": "markdown",
      "metadata": {
        "id": "LiTVYDxUVBIg"
      },
      "source": [
        "# Predictor"
      ]
    },
    {
      "cell_type": "code",
      "metadata": {
        "id": "BJstqzgiNWkj"
      },
      "source": [
        "def predictor(model,bath,balcony,total_sqft_int,bhk,price_per_sqft):\n",
        "  x =np.zeros(len(X.columns))\n",
        "  x[0]=bath\n",
        "  x[1]=balcony\n",
        "  x[2]=total_sqft_int\n",
        "  x[3]=bhk\n",
        "  x[4]=price_per_sqft\n",
        "  x = sc.transform([x])[0]\n",
        "  return model.predict([x])[0]"
      ],
      "execution_count": 17,
      "outputs": []
    },
    {
      "cell_type": "markdown",
      "metadata": {
        "id": "oC0mBkarKUzw"
      },
      "source": [
        "# Saving and Loading the Model"
      ]
    },
    {
      "cell_type": "code",
      "metadata": {
        "colab": {
          "base_uri": "https://localhost:8080/"
        },
        "id": "0FepBAKJHHuf",
        "outputId": "ba4c5ee5-be10-4f1a-f5d5-1f9a9378d211"
      },
      "source": [
        "joblib.dump(xgb_reg, 'model.pkl')"
      ],
      "execution_count": 18,
      "outputs": [
        {
          "output_type": "execute_result",
          "data": {
            "text/plain": [
              "['model.pkl']"
            ]
          },
          "metadata": {
            "tags": []
          },
          "execution_count": 18
        }
      ]
    },
    {
      "cell_type": "code",
      "metadata": {
        "colab": {
          "base_uri": "https://localhost:8080/"
        },
        "id": "y9pzeYYLKm6E",
        "outputId": "401eda60-d84c-4d17-ad81-e38031fdaf7b"
      },
      "source": [
        "model = joblib.load(\"model.pkl\")"
      ],
      "execution_count": 19,
      "outputs": [
        {
          "output_type": "stream",
          "text": [
            "[10:32:27] WARNING: /workspace/src/objective/regression_obj.cu:152: reg:linear is now deprecated in favor of reg:squarederror.\n"
          ],
          "name": "stdout"
        }
      ]
    },
    {
      "cell_type": "code",
      "metadata": {
        "colab": {
          "base_uri": "https://localhost:8080/"
        },
        "id": "Z24uQ9PjK2H0",
        "outputId": "bf6f5683-78fc-42ae-b15e-5acb9b17be69"
      },
      "source": [
        "predictor(model,bath=1,balcony=0,total_sqft_int=300,bhk=1,price_per_sqft=6000)"
      ],
      "execution_count": 20,
      "outputs": [
        {
          "output_type": "execute_result",
          "data": {
            "text/plain": [
              "34.905094"
            ]
          },
          "metadata": {
            "tags": []
          },
          "execution_count": 20
        }
      ]
    },
    {
      "cell_type": "markdown",
      "metadata": {
        "id": "o3DJlLLyuypU"
      },
      "source": [
        "#Deploying the Model"
      ]
    },
    {
      "cell_type": "code",
      "metadata": {
        "colab": {
          "base_uri": "https://localhost:8080/"
        },
        "id": "AvB8VKbbCUwb",
        "outputId": "50392dec-6241-4cb3-88f4-28b3ae34fa5c"
      },
      "source": [
        "app = FastAPI()\n",
        "pickle_in = open('model.pkl',\"rb\")\n",
        "reg = pickle.load(pickle_in)\n",
        "\n",
        "@app.get('/Blog')\n",
        "def fun():\n",
        "\treturn {'name':\"BHPP\"}\n",
        "\n",
        "@app.post('/predict')\n",
        "class Features(BaseModel):\n",
        "\tbath:int\n",
        "\tbalcony:int\n",
        "\tTotalSquareFit: int\n",
        "\tbhk: int\n",
        "\tPricePerSqfit: int\n",
        "def prediction(data:Features):\n",
        "\tdata = data.dict()\n",
        "\tbath = data['bath']\n",
        "\tbalcony = data['balcony']\n",
        "\tTotalSquareFit = data['TotalSquareFit']\n",
        "\tbhk = data['bhk']\n",
        "\tPricePerSqfit = data['PricePerSqfit']\n",
        "\tprediction = reg.predict([[bath,balcony,TotalSquareFit,bhk,PricePerSqfit]])\n",
        "\treturn {\n",
        "    'Predicted Price ': prediction[0]\n",
        "    }"
      ],
      "execution_count": 21,
      "outputs": [
        {
          "output_type": "stream",
          "text": [
            "[10:32:27] WARNING: /workspace/src/objective/regression_obj.cu:152: reg:linear is now deprecated in favor of reg:squarederror.\n"
          ],
          "name": "stdout"
        }
      ]
    },
    {
      "cell_type": "code",
      "metadata": {
        "id": "keCSxz_5EqUz"
      },
      "source": [
        "ngrok.kill()\n",
        "ngrok_tunnel = ngrok.connect(8000)\n",
        "print('Public URL:', ngrok_tunnel.public_url)\n",
        "nest_asyncio.apply()\n",
        "uvicorn.run(app, port=8000)"
      ],
      "execution_count": 22,
      "outputs": []
    }
  ]
}